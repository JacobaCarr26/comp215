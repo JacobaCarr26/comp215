{
  "nbformat": 4,
  "nbformat_minor": 0,
  "metadata": {
    "kernelspec": {
      "display_name": "Python 3",
      "language": "python",
      "name": "python3"
    },
    "language_info": {
      "codemirror_mode": {
        "name": "ipython",
        "version": 2
      },
      "file_extension": ".py",
      "mimetype": "text/x-python",
      "name": "python",
      "nbconvert_exporter": "python",
      "pygments_lexer": "ipython2",
      "version": "2.7.6"
    },
    "colab": {
      "provenance": [],
      "include_colab_link": true
    }
  },
  "cells": [
    {
      "cell_type": "markdown",
      "metadata": {
        "id": "view-in-github",
        "colab_type": "text"
      },
      "source": [
        "<a href=\"https://colab.research.google.com/github/JacobaCarr26/comp215/blob/main/Copy_of_lab03_classes.ipynb\" target=\"_parent\"><img src=\"https://colab.research.google.com/assets/colab-badge.svg\" alt=\"Open In Colab\"/></a>"
      ]
    },
    {
      "cell_type": "markdown",
      "source": [
        "COMP 215 - LAB 3\n",
        "----------------\n",
        "#### Name: Jacoba Carr\n",
        "#### Date: 2025-01-22\n",
        "\n",
        "By the end of this lab you should be able to:\n",
        "  * use a `class` to organize related data and functions\n",
        "  * identify a `record` as a related collection of data, with fields for each data value\n",
        "\n",
        "During this lab, you will be introduced to the following:\n",
        "  * the `@dataclass` decorator to simplify class definition for classes that primarily encapsulate a data structure.\n",
        "  * the `@classmethod` decorator to create 'object factories'.\n",
        "  * plotting frequency distributions in `matplotlib`\n",
        "\n"
      ],
      "metadata": {
        "id": "nbRPZPKZU5Pk"
      }
    },
    {
      "cell_type": "markdown",
      "source": [
        "## Near Earth Objects (with classes)\n",
        "\n",
        "We'll continue working with Near Earth Object data using NASA's API: https://api.nasa.gov/.  In this lab we will define an Asteroid class to help us structure the data for easier data analysis.  Here's a brief review from Lab 2 on how to use the API.  "
      ],
      "metadata": {
        "id": "j0F0hjKzgQ1W"
      }
    },
    {
      "cell_type": "code",
      "execution_count": 3,
      "outputs": [
        {
          "output_type": "stream",
          "name": "stdout",
          "text": [
            "Collecting python-dotenv\n",
            "  Downloading python_dotenv-1.0.1-py3-none-any.whl.metadata (23 kB)\n",
            "Downloading python_dotenv-1.0.1-py3-none-any.whl (19 kB)\n",
            "Installing collected packages: python-dotenv\n",
            "Successfully installed python-dotenv-1.0.1\n"
          ]
        }
      ],
      "source": [
        "# import necessary modules\n",
        "! pip install python-dotenv\n",
        "import datetime, json, requests\n",
        "from dataclasses import dataclass\n",
        "from pprint import pprint\n",
        "import matplotlib.pyplot as plt\n",
        "%matplotlib inline"
      ],
      "metadata": {
        "pycharm": {
          "name": "#%%\n"
        },
        "ExecuteTime": {
          "end_time": "2024-01-04T04:10:54.380220Z",
          "start_time": "2024-01-04T04:10:54.335677Z"
        },
        "id": "TLWTJDuVfSzO",
        "colab": {
          "base_uri": "https://localhost:8080/"
        },
        "outputId": "b77595ed-eae5-46fe-e24e-3598da89f5b3"
      }
    },
    {
      "cell_type": "markdown",
      "source": [
        "### Review: make an API query\n",
        "\n",
        "Here's a query that gets the record for a single NEO that recently passed by.  Read these functions carefully to be sure you know what they are returning.  Note the nested for loop structure in the return statement of the `get_neos` function - be sure to understand what it is doing.  You might want to add some more `pprint` statements to be sure you understand the data structures."
      ],
      "metadata": {
        "collapsed": false,
        "pycharm": {
          "name": "#%% md\n"
        },
        "id": "ug6L49x3fSzP"
      }
    },
    {
      "cell_type": "code",
      "execution_count": null,
      "outputs": [],
      "source": [
        "from dotenv import load_dotenv\n",
        "import os\n",
        "load_dotenv('API_KEY.env')\n",
        "API_KEY = os.getenv('API_KEY')\n",
        "if API_KEY:\n",
        "  print('API_KEY loaded successfully')\n",
        "else:\n",
        "  print('API_KEY not found')\n",
        "\n",
        "def get_neos(start_date):\n",
        "  \"\"\" Return a list of NEO for the week starting at start_date \"\"\"\n",
        "  url = f'https://api.nasa.gov/neo/rest/v1/feed?start_date={start_date}&api_key={API_KEY}'\n",
        "  # Fetch last week's NEO feed\n",
        "  response = requests.request(\"GET\", url, headers={}, data={})\n",
        "  data = json.loads(response.text)\n",
        "  print(f'{data[\"element_count\"]} Near Earth Objects found for week of {start_date}')\n",
        "  return [neo for dated_records in data['near_earth_objects'].values() for neo in dated_records ]\n",
        "\n",
        "def get_neo(id):\n",
        "    \"\"\" Return a NEO record for the given id \"\"\"\n",
        "    url = f'https://api.nasa.gov/neo/rest/v1/neo/{id}?api_key={API_KEY}'\n",
        "    response = requests.request(\"GET\", url, headers={}, data={})\n",
        "    return json.loads(response.text)\n",
        "\n",
        "from datetime import datetime, timedelta\n",
        "today = datetime.now()\n",
        "week_start = today - timedelta(weeks=1)\n",
        "\n",
        "# Format today and one week ago to start and end\n",
        "start = week_start.strftime(\"%Y-%m-%d\")\n",
        "end = today.strftime(\"%Y-%m-%d\")\n",
        "\n",
        "neos = get_neos(start)\n",
        "assert len(neos) > 0, f'Oh oh! No NEOs found for the week of {start}'\n",
        "neo = get_neo(neos[-1]['id'])  # get the very latest NEO\n",
        "pprint(neo)"
      ],
      "metadata": {
        "collapsed": true,
        "pycharm": {
          "name": "#%%\n"
        },
        "ExecuteTime": {
          "end_time": "2024-01-04T04:11:12.889668Z",
          "start_time": "2024-01-04T04:10:54.383166Z"
        },
        "id": "7Ex-7gB4fSzP"
      }
    },
    {
      "cell_type": "markdown",
      "source": [
        "## Exercise 1:  Define an Asteroid class\n",
        "\n",
        "Define a simple Asteroid class with some basic state variables for a single NEO.  Your Asteroid class should define at least 4 \"state variables:”\n",
        "\n",
        "    id\n",
        "    name\n",
        "    estimated_diameter (m)\n",
        "    is_potentially_hazardous (bool)\n",
        "\n",
        "Operations must include:\n",
        "* `__init__(self, ...)` method to initialize a new Asteroid object with specific data values\n",
        "* `__str__(self)`, and `__repr__(self)` methods that return nicely formatted string representations of the object.\n",
        "\n",
        "Write a little code to test your new class."
      ],
      "metadata": {
        "collapsed": false,
        "pycharm": {
          "name": "#%% md\n"
        },
        "id": "DcpH1nvJfSzP"
      }
    },
    {
      "cell_type": "code",
      "execution_count": 27,
      "outputs": [
        {
          "output_type": "stream",
          "name": "stdout",
          "text": [
            "Asteroid(ID: 54516130, Name: (2025 BC), Estimated Diameter: 25.1674942914, Not Potentially Hazardous)\n"
          ]
        }
      ],
      "source": [
        "# Ex.1 your code here\n",
        "class Asteroid:\n",
        "\n",
        "  def __init__(self, id, name, estimated_diameter, is_potentially_hazardous):\n",
        "    ''' param: estimated diamter is in meters\n",
        "    param: is_potentially_hazardous is a boolean'''\n",
        "    self.id = id\n",
        "    self.name = name\n",
        "    self.estimated_diameter = estimated_diameter\n",
        "    self.is_potentially_hazardous = is_potentially_hazardous\n",
        "\n",
        "  def __str__(self):\n",
        "    hazardous_status = 'Potentially Hazardous' if self.is_potentially_hazardous else 'Not Potentially Hazardous'\n",
        "    return f'Asteroid(ID: {self.id}, Name: {self.name}, Estimated Diameter: {self.estimated_diameter}, {hazardous_status})'\n",
        "\n",
        "  def __repr__(self):\n",
        "    return f'Asteroid {self.id}, {self.name}, {self.estimated_diameter}, {self.is_potentially_hazardous})'\n",
        "\n",
        "big_rock = Asteroid(neo['id'], neo['name'], neo['estimated_diameter']['meters']['estimated_diameter_max'], neo['is_potentially_hazardous_asteroid'])\n",
        "print(big_rock)"
      ],
      "metadata": {
        "pycharm": {
          "name": "#%%\n"
        },
        "ExecuteTime": {
          "end_time": "2024-01-04T04:11:12.891665Z",
          "start_time": "2024-01-04T04:11:12.889274Z"
        },
        "id": "FklvnAw4fSzQ",
        "colab": {
          "base_uri": "https://localhost:8080/"
        },
        "outputId": "1542b33a-68f2-4f5b-dd34-665f0887196e"
      }
    },
    {
      "cell_type": "markdown",
      "source": [
        "## Exercise 2: Make a histogram\n",
        "\n",
        "Create a list of all the Asteroid objects from this week's NEO feed and use the list to create a histogram to visualize the distribution of Asteroid diameters.  To create the historgram use the `hist()` method in the `matplotlib.pyplot` module."
      ],
      "metadata": {
        "id": "1BIePZEEVbhK"
      }
    },
    {
      "cell_type": "code",
      "source": [
        "# Ex. 2 your code here\n",
        "def get_asteroids(start_date):\n",
        "  '''returns a list of Asteroid objects from the given start date'''\n",
        "  neos = get_neos(start_date)\n",
        "  asteroids = []\n",
        "  for neo in neos:\n",
        "    asteroids.append(Asteroid(neo['id'], neo['name'], neo['estimated_diameter']['meters']['estimated_diameter_max'], neo['is_potentially_hazardous_asteroid']))\n",
        "  return asteroids\n",
        "\n",
        "asteroids = get_asteroids(start)\n",
        "assert len(neos) > 0, f'Oh oh! No NEOs found for the week of {start}'\n",
        "plt.hist([neo['estimated_diameter']['meters']['estimated_diameter_max'] for neo in neos],\n",
        "    bins = 30)\n",
        "plt.xlabel('Diameter (m)')\n",
        "plt.ylabel('Frequency')\n",
        "plt.title('Asteroid Diameter Distribution')\n",
        "plt.show()"
      ],
      "metadata": {
        "id": "orJxuk8nVd_B",
        "colab": {
          "base_uri": "https://localhost:8080/",
          "height": 489
        },
        "outputId": "7eaa9f4e-0f96-4e95-8280-e400f87e78c3"
      },
      "execution_count": 25,
      "outputs": [
        {
          "output_type": "stream",
          "name": "stdout",
          "text": [
            "120 Near Earth Objects found for week of 2025-01-13\n"
          ]
        },
        {
          "output_type": "display_data",
          "data": {
            "text/plain": [
              "<Figure size 640x480 with 1 Axes>"
            ],
            "image/png": "[encoded data removed]"
          },
          "metadata": {}
        }
      ]
    },
    {
      "cell_type": "markdown",
      "source": [
        "## Exercise 3: Use `@dataclass` and `@classmethod` to do the same thing\n",
        "\n",
        "Now that you know how to define a simple class, we are going to use a use decorators to simplify (ie. shorten) our class definitions.  You will redefine the Asteroid class in this exercise.  Note that having two different definitions of a class in a single piece of code is very bad practice. I am asking you to do it here just so that you can see the differt ways to define classes.\n",
        "\n",
        " 1. Use the `@dataclass` decorator from the `dataclasses` module to define the Asteroid class.  The `@dataclass` decorator will automatically generate some of the commonly used methods, like `__init()__`, `__repr()__`, and `__eq()__`.  The definition should start like this:\n",
        "    ```\n",
        "    @dataclass\n",
        "    class Asteroid:\n",
        "      ...\n",
        "    ```\n",
        "Write a little code to test your new class.\n",
        "  \n",
        "\n",
        " 2. Use the `@classmethod` decorator to construct a `from_NEO()` 'factory method' inside your Asteroid class that creates Asteroid objects from the NEO API.  The method should take the id for a single NEO, fetche the NEO record from API, constructs a single Asteroid object, and return the Asteroid object representing that NEO.  This kind of method is called a “Factory” because it constructs an object from raw materials.  The object factory method should start like this:\n",
        "    ```\n",
        "    @classmethod\n",
        "    from_NEO(cls, neo_id):\n",
        "        ...\n",
        "    ```\n",
        "Write a little code to test your new method.\n",
        "\n",
        " 3. Use your new Asteroid class to create a list of Asteroid objects.  Use this list to create the same historgram as in Exercise 2.  \n",
        "\n",
        "\n"
      ],
      "metadata": {
        "id": "oae6EWIhQW76"
      }
    },
    {
      "cell_type": "code",
      "source": [
        "# Ex.3 your code here\n",
        "@dataclass\n",
        "class Asteroid:\n",
        "  id: str\n",
        "  name: str\n",
        "  estimated_diameter: float\n",
        "  is_potentially_hazardous: bool\n",
        "\n",
        "  @classmethod\n",
        "  def from_NEO(cls, neo_id):\n",
        "    neo = get_neo(neo_id)\n",
        "    return Asteroid(neo['id'], neo['name'], neo['estimated_diameter']['meters']['estimated_diameter_max'], neo['is_potentially_hazardous_asteroid'])\n",
        "\n",
        "asteroids = [Asteroid.from_NEO(neo['id']) for neo in neos]\n",
        "assert len(neos) > 0, f'Oh oh! No NEOs found for the week of {start}'\n",
        "plt.hist([neo['estimated_diameter']['meters']['estimated_diameter_max'] for neo in neos],\n",
        "    bins = 30)\n",
        "plt.xlabel('Diameter (m)')\n",
        "plt.ylabel('Frequency')\n",
        "plt.title('Asteroid Diameter Distribution')\n",
        "plt.show()"
      ],
      "metadata": {
        "id": "ygUi21mXX25Y",
        "colab": {
          "base_uri": "https://localhost:8080/",
          "height": 472
        },
        "outputId": "4db3ab31-1098-44e2-816f-260817d9abad"
      },
      "execution_count": 29,
      "outputs": [
        {
          "output_type": "display_data",
          "data": {
            "text/plain": [
              "<Figure size 640x480 with 1 Axes>"
            ],
            "image/png": "[encoded data removed]"
          },
          "metadata": {}
        }
      ]
    },
    {
      "cell_type": "markdown",
      "source": [
        "## Challenge Exercise:\n",
        "\n",
        "One of your esteemed astromoner collegues has a theory that there is a correlation between the diameter and the orbital period of an asteroid.  Add the `orbital_period` data from the NEO API to your Asteroid class definition and use it to plot the orbital period (in years) versus the estimated diameter (in m) of all the asteroids from this week's NEO record.  Do you see a correlation?"
      ],
      "metadata": {
        "id": "4TznF_wiZJqu"
      }
    },
    {
      "cell_type": "code",
      "source": [
        "# Ex. Challenge your code here\n",
        "def get_neo(neo_id):\n",
        "  \"\"\" Return a NEO record for the given id \"\"\"\n",
        "  url = f\"https://api.nasa.gov/neo/rest/v1/neo/{neo_id}?api_key={API_KEY}\"\n",
        "  response = requests.get(url)\n",
        "  response.raise_for_status()  # Raise an exception for HTTP errors\n",
        "  return response.json()\n",
        "\n",
        "@dataclass\n",
        "class Asteroid:\n",
        "  id: str\n",
        "  name: str\n",
        "  estimated_diameter: float\n",
        "  is_potentially_hazardous: bool\n",
        "  orbital_period: float\n",
        "\n",
        "  @classmethod\n",
        "  def from_NEO(cls, neo_id):\n",
        "    # Fetch individual NEO details\n",
        "    neo = get_neo(neo_id)\n",
        "    return cls(\n",
        "      id=neo['id'],\n",
        "      name=neo['name'],\n",
        "      estimated_diameter=neo['estimated_diameter']['meters']['estimated_diameter_max'],\n",
        "      is_potentially_hazardous=neo['is_potentially_hazardous_asteroid'],\n",
        "      orbital_period=neo['orbital_data']['orbital_period']\n",
        "  )\n",
        "\n",
        "asteroids = [Asteroid.from_NEO(neo['id']) for neo in neos]\n",
        "assert len(asteroids) > 0, f'Oh oh! No NEOs found for the week of {start}'\n",
        "\n",
        "# Scatter plot\n",
        "plt.scatter(\n",
        "    [asteroid.orbital_period for asteroid in asteroids],\n",
        "    [asteroid.estimated_diameter for asteroid in asteroids]\n",
        ")\n",
        "plt.xlabel('Orbital Period (years)')\n",
        "plt.ylabel('Estimated Diameter (m)')\n",
        "plt.show()"
      ],
      "metadata": {
        "id": "bXJbBGDHZWjP",
        "colab": {
          "base_uri": "https://localhost:8080/",
          "height": 449
        },
        "outputId": "b0486546-1a0c-4bdf-d20d-3927dcb9f285"
      },
      "execution_count": 31,
      "outputs": [
        {
          "output_type": "display_data",
          "data": {
            "text/plain": [
              "<Figure size 640x480 with 1 Axes>"
            ],
            "image/png": "[encoded data removed]"
          },
          "metadata": {}
        }
      ]
    }
  ]
}