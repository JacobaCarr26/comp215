{
  "nbformat": 4,
  "nbformat_minor": 0,
  "metadata": {
    "kernelspec": {
      "display_name": "Python 3",
      "language": "python",
      "name": "python3"
    },
    "language_info": {
      "codemirror_mode": {
        "name": "ipython",
        "version": 2
      },
      "file_extension": ".py",
      "mimetype": "text/x-python",
      "name": "python",
      "nbconvert_exporter": "python",
      "pygments_lexer": "ipython2",
      "version": "2.7.6"
    },
    "colab": {
      "provenance": [],
      "include_colab_link": true
    }
  },
  "cells": [
    {
      "cell_type": "markdown",
      "metadata": {
        "id": "view-in-github",
        "colab_type": "text"
      },
      "source": [
        "<a href=\"https://colab.research.google.com/github/JacobaCarr26/comp215/blob/main/lab02-review.ipynb\" target=\"_parent\"><img src=\"https://colab.research.google.com/assets/colab-badge.svg\" alt=\"Open In Colab\"/></a>"
      ]
    },
    {
      "cell_type": "markdown",
      "source": [
        "COMP 215 - LAB 2\n",
        "----------------\n",
        "#### Name: Jacoba Carr\n",
        "#### Date: 2025-01-15\n",
        "\n",
        "By the end of this lab you should be able to:\n",
        "  * use strings, tuples, lists, and dictionaries (review)\n",
        "  * use *f-string* to simplify string formatting operations\n",
        "  * write functions and simple unit tests (review)\n",
        "  * use *list comprehension* to implement map and filter algorithms\n",
        "\n",
        "\n",
        "During this lab, you will be introduced to the following:\n",
        "  * API Keys\n",
        "  * JSON data formats\n",
        "  * the `datetime` module to represent dates and times\n",
        "  * the `pprint` module to format data structures"
      ],
      "metadata": {
        "id": "nbRPZPKZU5Pk"
      }
    },
    {
      "cell_type": "markdown",
      "source": [
        "## Near Earth Objects\n",
        "\n",
        "In this lab, we'll answer some questions about [Near Earth Objects](https://cneos.jpl.nasa.gov/) using NASA's API:  [https://api.nasa.gov/](https://api.nasa.gov/#NeoWS).  But, as usual, let's do the imports first.\n"
      ],
      "metadata": {
        "id": "UtWS08rgocwz"
      }
    },
    {
      "cell_type": "code",
      "execution_count": null,
      "outputs": [
        {
          "output_type": "stream",
          "name": "stdout",
          "text": [
            "Requirement already satisfied: python-dotenv in /usr/local/lib/python3.10/dist-packages (1.0.1)\n"
          ]
        }
      ],
      "source": [
        "! pip install python-dotenv\n",
        "import datetime, json, requests\n",
        "from pprint import pprint    # Pretty Print - built-in python function to nicely format data structures"
      ],
      "metadata": {
        "pycharm": {
          "name": "#%%\n"
        },
        "ExecuteTime": {
          "end_time": "2024-01-04T04:05:38.688434Z",
          "start_time": "2024-01-04T04:05:38.640552Z"
        },
        "id": "uckgiW6LmxA_",
        "colab": {
          "base_uri": "https://localhost:8080/"
        },
        "outputId": "58c065d9-aae9-41cf-94b0-284ebe3a4d02"
      }
    },
    {
      "cell_type": "markdown",
      "source": [
        "### dates & f-strings\n",
        "\n",
        "First we need a short tutorial on python dates and [f-strings](https://realpython.com/python-f-strings/)..."
      ],
      "metadata": {
        "collapsed": false,
        "pycharm": {
          "name": "#%% md\n"
        },
        "id": "z7R9AVbYmxBA"
      }
    },
    {
      "cell_type": "code",
      "execution_count": null,
      "outputs": [
        {
          "output_type": "stream",
          "name": "stdout",
          "text": [
            "2025-01-15 <class 'datetime.date'>\n",
            "Today is: 2025-01-15\n"
          ]
        }
      ],
      "source": [
        "today = datetime.date.today()   # get a date object representing today's date\n",
        "print(today, type(today))\n",
        "formatted_date = f'Today is: {today}'   # A format string - notice how the variable `today` is formatted into the string\n",
        "print(formatted_date)"
      ],
      "metadata": {
        "pycharm": {
          "name": "#%%\n"
        },
        "ExecuteTime": {
          "end_time": "2024-01-04T04:05:38.691283Z",
          "start_time": "2024-01-04T04:05:38.688366Z"
        },
        "colab": {
          "base_uri": "https://localhost:8080/"
        },
        "id": "FIqwOe5SmxBA",
        "outputId": "f75ef613-900c-40cb-c5cf-cef0c40613c7"
      }
    },
    {
      "cell_type": "markdown",
      "source": [
        "### Make an API Query\n",
        "\n",
        "Let's get some data from the NEO database; here's a query that gets the observation \"feed\" for today.  Notice the first line of the block is an 'API key'.  An API key is a unique identifier that authenticates a user when making a request to an API.  Run the block below using the API key 'DEMO_KEY' (just to be sure it works), then go to https://api.nasa.gov and get your own API key.  Use your own API key for the remainder of the lab."
      ],
      "metadata": {
        "collapsed": false,
        "pycharm": {
          "name": "#%% md\n"
        },
        "id": "NyY93KiOmxBB"
      }
    },
    {
      "cell_type": "code",
      "execution_count": null,
      "outputs": [
        {
          "output_type": "stream",
          "name": "stdout",
          "text": [
            "API_KEY loaded successfully\n",
            "12 Near Earth Objects found for 2025-01-15\n"
          ]
        }
      ],
      "source": [
        "from dotenv import load_dotenv # to keep API key safe\n",
        "import os\n",
        "\n",
        "load_dotenv('API_KEY.env') # load .env file\n",
        "API_KEY = os.getenv('API_KEY')\n",
        "\n",
        "if API_KEY:\n",
        "  print('API_KEY loaded successfully')\n",
        "else:\n",
        "  print('API_KEY not found')\n",
        "\n",
        "# get today's date (as a string)\n",
        "today = str(datetime.date.today())\n",
        "\n",
        "# use an f-string to \"format\" the date and API key varaibles.\n",
        "url = f'https://api.nasa.gov/neo/rest/v1/feed?start_date={today}&end_date={today}&api_key={API_KEY}'\n",
        "\n",
        "# make the API request (recall from lab 1)\n",
        "response = requests.request(\"GET\", url, headers={}, data={})\n",
        "\n",
        "# convert the response to json format (recall from lab 1)\n",
        "data = json.loads(response.text)\n",
        "\n",
        "# pprint(data)\n",
        "# here we grab just the list of NEO's:\n",
        "n_results = data['element_count']\n",
        "neos = data['near_earth_objects'][today]\n",
        "print(f'{n_results} Near Earth Objects found for {today}')\n",
        "#pprint(neos[:1])"
      ],
      "metadata": {
        "collapsed": true,
        "pycharm": {
          "name": "#%%\n"
        },
        "ExecuteTime": {
          "end_time": "2024-01-04T04:05:43.064157Z",
          "start_time": "2024-01-04T04:05:38.691252Z"
        },
        "id": "vZYx2VfXmxBB",
        "colab": {
          "base_uri": "https://localhost:8080/"
        },
        "outputId": "89cc676d-7570-4288-e8c7-2f53ddd24a83"
      }
    },
    {
      "cell_type": "markdown",
      "source": [
        "Next we extract just the potentially hazerdous asteroids, using a Comp115-style list accumulator *loop*:"
      ],
      "metadata": {
        "collapsed": false,
        "pycharm": {
          "name": "#%% md\n"
        },
        "id": "g7VOkS2PmxBB"
      }
    },
    {
      "cell_type": "code",
      "execution_count": null,
      "metadata": {
        "id": "JDGbYTySU3BP",
        "ExecuteTime": {
          "end_time": "2024-01-04T04:05:43.065108Z",
          "start_time": "2024-01-04T04:05:43.062239Z"
        },
        "colab": {
          "base_uri": "https://localhost:8080/"
        },
        "outputId": "07519301-2412-4e3e-a088-75e036783ba2"
      },
      "outputs": [
        {
          "output_type": "stream",
          "name": "stdout",
          "text": [
            "0 potentially hazardous asteroids identified.\n"
          ]
        }
      ],
      "source": [
        "hazards =  []\n",
        "for item in neos:\n",
        "  if item['is_potentially_hazardous_asteroid'] is True:\n",
        "    hazards.append(item)\n",
        "print(f'{len(hazards)} potentially hazardous asteroids identified.')"
      ]
    },
    {
      "cell_type": "markdown",
      "source": [
        "### Fetch Complete Data for One Asteroid\n",
        "\n",
        "Notice that the record for each `neo` is a dictionary with `id` field that uniquely identifies this record in the database.  We can use this `id` to fetch complete orbital and close approach data for the NEO.  For example, this query fetches the complete data set for the first hazardous asteroid...  Notice that the `miss_distance` field contains the distance (in various units) by which the NEO missed an \"orbiting body\".\n"
      ],
      "metadata": {
        "collapsed": false,
        "pycharm": {
          "name": "#%% md\n"
        },
        "id": "Um5gAiVTmxBC"
      }
    },
    {
      "cell_type": "code",
      "execution_count": null,
      "outputs": [
        {
          "output_type": "stream",
          "name": "stdout",
          "text": [
            "No hazardous asteroids found\n"
          ]
        }
      ],
      "source": [
        "if hazards: # because 2025-01-15 didn't have any\n",
        "  id = hazards[0]['id']\n",
        "  url = f'https://api.nasa.gov/neo/rest/v1/neo/{id}?api_key={API_KEY}'\n",
        "  response = requests.request(\"GET\", url, headers={}, data={})\n",
        "  data = json.loads(response.text)\n",
        "  #pprint(data)\n",
        "else:\n",
        "  print('No hazardous asteroids found')"
      ],
      "metadata": {
        "collapsed": true,
        "pycharm": {
          "name": "#%%\n"
        },
        "ExecuteTime": {
          "end_time": "2024-01-04T04:05:43.787125Z",
          "start_time": "2024-01-04T04:05:43.067936Z"
        },
        "id": "NVRl3l7EmxBC",
        "outputId": "df999b3b-1ba7-4935-8ccb-eb0f07a0aed2",
        "colab": {
          "base_uri": "https://localhost:8080/"
        }
      }
    },
    {
      "cell_type": "markdown",
      "source": [
        "## Exercise 1\n",
        "\n",
        "In the code cell below, **re-write the accumulator loop** that creates the list of hazards as a [list comprehension](https://realpython.com/lessons/list-comprehensions-overview/) that implements a [\"filter\"](https://youtu.be/hUes6y2b--0)\n",
        "Notice how this provides a concise way to \"filter\" items of interest from a larger data set."
      ],
      "metadata": {
        "collapsed": false,
        "pycharm": {
          "name": "#%% md\n"
        },
        "id": "93ns5r8gmxBB"
      }
    },
    {
      "cell_type": "code",
      "execution_count": null,
      "outputs": [],
      "source": [
        "# Ex. 1 your code here\n",
        "hazards = [item for item in neos if item['is_potentially_hazardous_asteroid'] is True]"
      ],
      "metadata": {
        "pycharm": {
          "name": "#%%\n"
        },
        "ExecuteTime": {
          "end_time": "2024-01-04T04:05:43.069849Z",
          "start_time": "2024-01-04T04:05:43.065922Z"
        },
        "id": "ewkwkc8wmxBB"
      }
    },
    {
      "cell_type": "markdown",
      "source": [
        "\n",
        "\n",
        "## Exercise 2\n",
        "\n",
        "In the code cell below, write a python function that takes a list of \"close approach data\" as a parameter,\n",
        "and returns a 2-tuple with the (date, miss km) of the closest approach to Earth in the list (where \"miss km\" is the miss distance in km).\n",
        "\n",
        "Hints:\n",
        "* notice the input is a list of dictionaries.  Each dictionary has a 'close_approach_date\", \"orbiting_body\", and 'miss_distance' field.\n",
        "* we are only interested in the closest approach to \"Earth\"\n",
        "* use a loop if that is easier to understand - we will look at more compact algorithms to solve this problem in class.\n",
        "\n",
        "Add at least one unit test to check your work - note the test data only needs dictionaries with the fields your function actually uses.\n"
      ],
      "metadata": {
        "id": "DNRs7ynOYwYk"
      }
    },
    {
      "cell_type": "code",
      "source": [
        "# Ex. 2 your code here\n",
        "def closest_approach(close_approach_data):\n",
        "  ''' Returns a 2-tuple with the (date, miss km) of the closest approach to Earth in the list\n",
        "  (where \"miss km\" is the miss distance in km).\n",
        "\n",
        "  Param: \"close approach data\" is a list of dictionaries with a \"close_approach_date\",\n",
        "  \"orbiting_body\", and 'miss_distance' field.\n",
        "  '''\n",
        "  closest = close_approach_data[0]\n",
        "  for item in close_approach_data:\n",
        "    if item['orbiting_body'] != 'Earth':\n",
        "      continue\n",
        "    if item['miss_distance']['kilometers'] < closest['miss_distance']['kilometers']:\n",
        "      closest = item\n",
        "  return (closest['close_approach_date'], closest['miss_distance']['kilometers'])\n",
        "\n",
        "# Unit test:\n",
        "\n",
        "url = f'https://api.nasa.gov/neo/rest/v1/neo/3542519?api_key={API_KEY}'\n",
        "response = requests.request(\"GET\", url, headers={}, data={})\n",
        "data = json.loads(response.text)\n",
        "# Access just the close approach data\n",
        "ca_data_all = data['close_approach_data']\n",
        "\n",
        "# Filter for specific dates\n",
        "start_date = datetime.datetime.strptime(\"2000-08-28\", \"%Y-%m-%d\")\n",
        "end_date = datetime.datetime.strptime(\"2005-05-03\", \"%Y-%m-%d\")\n",
        "\n",
        "ca_data = [\n",
        "    item for item in ca_data_all\n",
        "    if start_date <= datetime.datetime.strptime(item[\"close_approach_date\"], \"%Y-%m-%d\") <= end_date\n",
        "]\n",
        "\n",
        "assert closest_approach(ca_data) == ('2001-08-06', '18937090.024000869')"
      ],
      "metadata": {
        "id": "tiyXTDfnZAd0",
        "ExecuteTime": {
          "end_time": "2024-01-04T04:05:43.790535Z",
          "start_time": "2024-01-04T04:05:43.787064Z"
        }
      },
      "execution_count": null,
      "outputs": []
    },
    {
      "cell_type": "markdown",
      "source": [
        "## Challenge Exercise\n",
        "\n",
        "In the code cell below, write a complete program that:\n",
        " 1. fetches the list of NEO's for this week.\n",
        " 2. for each NEO, fetch it's complete orbital data and determine its closest approach to Earth\n",
        " 3. identify which NEO from this week's data makes the closet approach to earth\n",
        " 4. print a nice message with information about the NEO, which it will approach the Earth, and how close it will come.\n",
        "\n",
        "Hints:\n",
        "* you'll need the start and end date - end date is today, see if you can use a [`timedelta`](https://docs.python.org/3/library/datetime.html#timedelta-objects) object to ge the start date (you can do basic \"date math\" with `timedelta` and `date` objects!)\n",
        "* you may need to modify the function we wrote in Ex. 2 to return a triple with the NEO's id included;\n",
        "* lots of opportunity here for more practice with list comprehensions\n"
      ],
      "metadata": {
        "collapsed": false,
        "id": "BrVVSFCnmxBC"
      }
    },
    {
      "cell_type": "code",
      "source": [
        "from datetime import datetime, timedelta\n",
        "\n",
        "def closest_approach_triple(data):\n",
        "  \"\"\"\n",
        "  Returns a triple with the (id, date, miss km) of the closest approach to Earth in the list\n",
        "  (where \"miss km\" is the miss distance in km).\n",
        "\n",
        "  Param: \"data\" is a list of dictionaries with fields \"id\" and \"close approach data\" dictionary\n",
        "  containing \"close_approach_date\", \"orbiting_body\", and 'miss_distance' fields.\n",
        "  \"\"\"\n",
        "  # Generate a list of valid close approaches\n",
        "  valid_approaches = [\n",
        "    (item['id'], approach['close_approach_date'], float(approach['miss_distance']['kilometers']))\n",
        "    for item in data\n",
        "    for approach in item.get('close_approach_data', [])\n",
        "    if approach.get('orbiting_body') == 'Earth'\n",
        "  ]\n",
        "\n",
        "  # Find the closest approach by miss distance\n",
        "  if valid_approaches:\n",
        "    return min(valid_approaches, key=lambda x: x[2])  # x[2] is used to sort by miss distance (in km)\n",
        "  return None\n",
        "\n",
        "def main():\n",
        "  \"\"\"\n",
        "  Creates a list of NEO's for this week\n",
        "  Prints the closest approach NEO's id, date, and miss distance.\n",
        "  \"\"\"\n",
        "  today = datetime.now()\n",
        "  one_week_ago = today - timedelta(weeks=1)\n",
        "\n",
        "  # Format today and one week ago to start and end\n",
        "  start = one_week_ago.strftime(\"%Y-%m-%d\")\n",
        "  end = today.strftime(\"%Y-%m-%d\")\n",
        "\n",
        "  # Fetch data for the given date range & catch errors\n",
        "  url = f'https://api.nasa.gov/neo/rest/v1/feed?start_date={start}&end_date={end}&api_key={API_KEY}'\n",
        "  response = requests.get(url)\n",
        "  if response.status_code != 200:\n",
        "    print(f\"Failed to fetch data: {response.status_code}, {response.text}\")\n",
        "    return\n",
        "\n",
        "  data = json.loads(response.text)\n",
        "\n",
        "  # Extract list of all NEOs from the date range\n",
        "  neos = [neo for neo_list in data.get('near_earth_objects', {}).values() for neo in neo_list]\n",
        "\n",
        "  # Find and print the closest approach & catch events with no close approaches to Earth\n",
        "  closest = closest_approach_triple(neos)\n",
        "  if closest:\n",
        "    print(f\"Closest approach: ID={closest[0]}, Date={closest[1]}, Miss Distance={closest[2]} km\")\n",
        "  else:\n",
        "    print(\"No close approaches to Earth found in the provided data.\")\n",
        "\n",
        "main()"
      ],
      "metadata": {
        "id": "WG7bqJeJOfuK",
        "outputId": "8fd9ce86-e199-497b-c661-09c4e538e36f",
        "colab": {
          "base_uri": "https://localhost:8080/"
        }
      },
      "execution_count": null,
      "outputs": [
        {
          "output_type": "stream",
          "name": "stdout",
          "text": [
            "Closest approach: ID=54516006, Date=2025-01-11, Miss Distance=228199.88205114 km\n"
          ]
        }
      ]
    }
  ]
}