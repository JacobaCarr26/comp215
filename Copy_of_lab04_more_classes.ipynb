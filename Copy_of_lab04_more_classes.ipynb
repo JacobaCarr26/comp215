{
  "cells": [
    {
      "cell_type": "markdown",
      "metadata": {
        "id": "view-in-github",
        "colab_type": "text"
      },
      "source": [
        "<a href=\"https://colab.research.google.com/github/JacobaCarr26/comp215/blob/main/Copy_of_lab04_more_classes.ipynb\" target=\"_parent\"><img src=\"https://colab.research.google.com/assets/colab-badge.svg\" alt=\"Open In Colab\"/></a>"
      ]
    },
    {
      "cell_type": "markdown",
      "metadata": {
        "id": "nbRPZPKZU5Pk"
      },
      "source": [
        "COMP 215 - LAB 4\n",
        "----------------\n",
        "#### Name: Jacoba Carr\n",
        "#### Date: 2025-01-29\n",
        "\n",
        "By the end of this lab you should be able to:\n",
        "  * use composition and inheritance in a `class` to categorize related information\n",
        "\n",
        "\n",
        "During this lab, you will be introduced to the following:\n",
        "  * something, something\n",
        "\n"
      ]
    },
    {
      "cell_type": "markdown",
      "metadata": {
        "id": "j0F0hjKzgQ1W"
      },
      "source": [
        "## Near Earth Objects (with more classes)\n",
        "\n",
        "We'll continue working with Near Earth Object data using NASA's API: https://api.nasa.gov/.  In Lab 3 we defined an Asteroid class that contained a simple data structure.  In this lab, we will be Here's a brief review from Lab 2 on how to use the API.  "
      ]
    },
    {
      "cell_type": "code",
      "execution_count": 1,
      "metadata": {
        "id": "TLWTJDuVfSzO"
      },
      "outputs": [],
      "source": [
        "# import necessary modules\n",
        "import datetime, json, requests, math\n",
        "from pprint import pprint"
      ]
    },
    {
      "cell_type": "markdown",
      "metadata": {
        "collapsed": false,
        "id": "ug6L49x3fSzP"
      },
      "source": [
        "### Review: make an API query\n",
        "\n",
        "Here's a query that gets the record for a single NEO that recently passed by."
      ]
    },
    {
      "cell_type": "code",
      "execution_count": 2,
      "metadata": {
        "colab": {
          "base_uri": "https://localhost:8080/"
        },
        "collapsed": true,
        "id": "7Ex-7gB4fSzP",
        "outputId": "68c11182-99c7-4cc9-c2f6-5efe7261c050"
      },
      "outputs": [
        {
          "output_type": "stream",
          "name": "stdout",
          "text": [
            "92 Near Earth Objects found for week of 2025-01-23\n"
          ]
        }
      ],
      "source": [
        "from google.colab import userdata # Can actually use colab and not dotenv\n",
        "API_KEY = userdata.get('API_KEY')\n",
        "\n",
        "def get_neos(start_date):\n",
        "    \"\"\" Return a list of NEO for the week starting at start_date \"\"\"\n",
        "    url = f'https://api.nasa.gov/neo/rest/v1/feed?start_date={start_date}&api_key={API_KEY}'\n",
        "    # Fetch last week's NEO feed\n",
        "    response = requests.request(\"GET\", url, headers={}, data={})\n",
        "    data = json.loads(response.text)\n",
        "    #pprint(data)\n",
        "    print(f'{data[\"element_count\"]} Near Earth Objects found for week of {start_date}')\n",
        "    return [neo for dated_records in data['near_earth_objects'].values() for neo in dated_records ]\n",
        "\n",
        "def get_neo(id):\n",
        "    \"\"\" Return a NEO record for the given id \"\"\"\n",
        "    url = f'https://api.nasa.gov/neo/rest/v1/neo/{id}?api_key={API_KEY}'\n",
        "    response = requests.request(\"GET\", url, headers={}, data={})\n",
        "    return json.loads(response.text)\n",
        "\n",
        "from datetime import datetime, timedelta\n",
        "today = datetime.now()\n",
        "week_start = today - timedelta(weeks=1)\n",
        "# Format today and one week ago to start and end\n",
        "start = week_start.strftime(\"%Y-%m-%d\")\n",
        "end = today.strftime(\"%Y-%m-%d\")\n",
        "\n",
        "neos = get_neos(start)\n",
        "assert len(neos) > 0, f'Oh oh!  No NEOs found for {start}'\n",
        "neo = get_neo(neos[-1]['id'])  # get the very latest NEO\n",
        "#print(f\"Record for NEO ID {neos[-1]['id']} is:\")\n",
        "#pprint(neo)"
      ]
    },
    {
      "cell_type": "markdown",
      "metadata": {
        "id": "DNRs7ynOYwYk"
      },
      "source": [
        "## Exercise 1: Define a CloseApproach class\n",
        "\n",
        "Each NEO record comes with a list of `close_approach_data`, where each record in this list represents a single “close approach” to another orbiting body.\n",
        "1. Develop a class named `CloseApproach` to represent a single close approach record.  State variables are\n",
        "\n",
        "        neo (refrence to related NEO object)\n",
        "        orbiting body (str)\n",
        "        approach date (datetime object!)\n",
        "        miss distance (float - choose units, document it, and be consistent!)\n",
        "        relative velocity (ditto)\n",
        "  \n",
        "2. Define a \"Factory\" class method to construct a `CloseApproach` object from one close approach data record (a dictionary object). This method takes a `neo` object as input for the NEO to which the close approach data belongs. Remember to parse the date/time string into a datetime object."
      ]
    },
    {
      "cell_type": "code",
      "execution_count": 3,
      "metadata": {
        "id": "tiyXTDfnZAd0"
      },
      "outputs": [],
      "source": [
        "# Ex. 1\n",
        "from dataclasses import dataclass\n",
        "\n",
        "@dataclass\n",
        "class CloseApproach:\n",
        "  neo_id: str\n",
        "  orbiting_body: str\n",
        "  approach_date: datetime\n",
        "  miss_distance: float  # Use km\n",
        "  relative_velocity: float  # Use km/s\n",
        "\n",
        "  @classmethod\n",
        "  def from_NEO(cls, neo_id, approach_data):\n",
        "    '''Factory method to create a CloseApproach from an NEO object and a single close approach record.\n",
        "\n",
        "    - 'miss_distance' is stored in 'kilometers'.\n",
        "    - 'relative_velocity' is stored in 'kilometers_per_second'.\n",
        "    '''\n",
        "    return cls(\n",
        "      neo_id=neo_id,\n",
        "      orbiting_body=approach_data['orbiting_body'],\n",
        "      approach_date=datetime.strptime(approach_data['close_approach_date'], '%Y-%m-%d'),\n",
        "      miss_distance=float(approach_data['miss_distance']['kilometers']),\n",
        "      relative_velocity=float(approach_data['relative_velocity']['kilometers_per_second'])\n",
        "    )\n"
      ]
    },
    {
      "cell_type": "code",
      "execution_count": 4,
      "metadata": {
        "colab": {
          "base_uri": "https://localhost:8080/"
        },
        "id": "f3g1SpPr-X9U",
        "outputId": "1e1a4c3b-2747-4864-d59f-2fb7703ab8da"
      },
      "outputs": [
        {
          "output_type": "stream",
          "name": "stderr",
          "text": [
            ".\n",
            "----------------------------------------------------------------------\n",
            "Ran 1 test in 0.009s\n",
            "\n",
            "OK\n"
          ]
        },
        {
          "output_type": "execute_result",
          "data": {
            "text/plain": [
              "<unittest.main.TestProgram at 0x79988ac594d0>"
            ]
          },
          "metadata": {},
          "execution_count": 4
        }
      ],
      "source": [
        "import unittest\n",
        "\n",
        "class TestCloseApproach(unittest.TestCase):\n",
        "  def setUp(self):\n",
        "    '''Set up a sample NEO object and close approach data for testing.'''\n",
        "    self.neo_id = {'neo_reference_id': '54517678'}  # Simulating an NEO object using ID from the most recent NEO\n",
        "    self.approach_data = {\n",
        "      'orbiting_body': 'Earth',\n",
        "      'close_approach_date': '2029-04-13',\n",
        "      'miss_distance': {'kilometers': '32000.0'},\n",
        "      'relative_velocity': {'kilometers_per_second': '7.42'}\n",
        "    }\n",
        "\n",
        "  def test_from_NEO(self):\n",
        "    '''Test the factory method 'from_NEO'.'''\n",
        "    approach = CloseApproach.from_NEO(self.neo_id['neo_reference_id'], self.approach_data)\n",
        "\n",
        "    # Check the type of the created object\n",
        "    self.assertIsInstance(approach, CloseApproach)\n",
        "\n",
        "    # Check the stored values\n",
        "    self.assertEqual(approach.neo_id, self.neo_id['neo_reference_id'])\n",
        "    self.assertEqual(approach.orbiting_body, 'Earth')\n",
        "    self.assertEqual(approach.approach_date, datetime(2029, 4, 13))  # Ensure date parsing works\n",
        "    self.assertAlmostEqual(approach.miss_distance, 32000.0)  # Float comparison\n",
        "    self.assertAlmostEqual(approach.relative_velocity, 7.42)\n",
        "\n",
        "# Run the tests\n",
        "unittest.main(argv=[''], exit=False)"
      ]
    },
    {
      "cell_type": "markdown",
      "metadata": {
        "collapsed": false,
        "id": "0q5w7OkHfSzQ"
      },
      "source": [
        "## Exercise 2: Add list of CloseApproach objects to the Asteroid\n",
        "\n",
        "Define an `Asteroid` class, like you did in Lab 3, but give the `Asteroid` list of “close approaches”.  This is called *composition* because each Asteroid object will be *composed* of CloseApproach objects (plus some other things).  There is bit of a catch-22 here because we need the `Asteroid` to construct the `CloseApproach` objects. The first two steps deal with that:\n",
        "\n",
        "1. Add an instance variable to your Asteroid class with a default value of an empty list:\n",
        "\n",
        "    ```\n",
        "    close_approaches:list = []\n",
        "    ```\n",
        "      \n",
        "2. In the Asteroid `from_NEO` factory, use a list comprehension to build the list of `CloseApproach` objects for the Asteroid instance, and then set the instance's `close_approaches` variable before returning it. Setting the value of an object's instance variables from outside the class is generally frowned upon - this is why we make the factory a method of the class itself.\n",
        "\n",
        "3. Add a method to `Asteroid` to return the `CloseApproach` object for the nearest miss (ie. smallest `missed_distance`):\n",
        "    ```\n",
        "    def nearest_miss(self):\n",
        "        ...\n",
        "    ```\n",
        "\n",
        "4. Add a method to the Asteroid class, `closest_earth_approach`, that returns the CloseApproach object that represents the closest approach the Asteroid makes to Earth.\n",
        "    ```\n",
        "    def closest_earth_approach(self):\n",
        "        ...\n",
        "    ```\n",
        "\n",
        "Write some test code to demonstrate these new features."
      ]
    },
    {
      "cell_type": "code",
      "execution_count": 5,
      "metadata": {
        "id": "0P971NWDfSzQ"
      },
      "outputs": [],
      "source": [
        "# Ex. 2\n",
        "@dataclass\n",
        "class Asteroid:\n",
        "  id: str\n",
        "  name: str\n",
        "  estimated_diameter: float\n",
        "  is_potentially_hazardous: bool\n",
        "  close_approaches: list\n",
        "\n",
        "  @classmethod\n",
        "  def from_NEO(cls, neo_id):\n",
        "    '''Factory method to create an Asteroid from an NEO ID.'''\n",
        "    neo = get_neo(neo_id)\n",
        "\n",
        "    # List comprehension to create CloseApproach objects\n",
        "    close_approaches = [\n",
        "      CloseApproach.from_NEO(neo, approach_data)\n",
        "      for approach_data in neo.get('close_approach_data', [])\n",
        "    ]\n",
        "\n",
        "    return cls(\n",
        "      id=neo['id'],\n",
        "      name=neo['name'],\n",
        "      estimated_diameter=neo['estimated_diameter']['meters']['estimated_diameter_max'],\n",
        "      is_potentially_hazardous=neo['is_potentially_hazardous_asteroid'],\n",
        "      close_approaches=close_approaches  # Assign the list we made\n",
        "    )\n",
        "\n",
        "  def nearest_miss(self):\n",
        "    '''Returns the CloseApproach object with the smallest miss distance.'''\n",
        "    if not self.close_approaches:\n",
        "      return None  # Means no close approaches\n",
        "\n",
        "    return min(self.close_approaches, key=lambda ca: ca.miss_distance)\n",
        "\n",
        "  def closest_earth_approach(self, start_date=None, end_date=None):\n",
        "    '''Find the closest approach within an optional date range.'''\n",
        "    # Convert start and end dates to datetime objects if provided\n",
        "    start_dt = datetime.strptime(start_date, \"%Y-%m-%d\") if start_date else None\n",
        "    end_dt = datetime.strptime(end_date, \"%Y-%m-%d\") if end_date else None\n",
        "\n",
        "    # Filter approaches that are within the requested date range\n",
        "    valid_approaches = [\n",
        "      approach for approach in self.close_approaches\n",
        "      if (not start_dt or approach.approach_date >= start_dt) and\n",
        "        (not end_dt or approach.approach_date <= end_dt)\n",
        "    ]\n",
        "\n",
        "    # Return the closest valid approach\n",
        "    return min(valid_approaches, key=lambda x: x.miss_distance, default=None)\n",
        "\n"
      ]
    },
    {
      "cell_type": "code",
      "execution_count": 6,
      "metadata": {
        "colab": {
          "base_uri": "https://localhost:8080/"
        },
        "id": "aAWN-3pQFU7M",
        "outputId": "eddf5412-9d99-4ba8-b48d-106996ab404c"
      },
      "outputs": [
        {
          "output_type": "stream",
          "name": "stderr",
          "text": [
            "...\n",
            "----------------------------------------------------------------------\n",
            "Ran 3 tests in 0.018s\n",
            "\n",
            "OK\n"
          ]
        }
      ],
      "source": [
        "from unittest.mock import patch\n",
        "\n",
        "class TestAsteroid(unittest.TestCase):\n",
        "  def setUp(self):\n",
        "    '''Set up a sample Asteroid with multiple CloseApproach objects.'''\n",
        "    self.fake_neo = {\n",
        "      'id': '2029_APO',\n",
        "      'name': 'Apophis',\n",
        "      'estimated_diameter': {'meters': {'estimated_diameter_max': 370.0}},\n",
        "      'is_potentially_hazardous_asteroid': True,\n",
        "      'close_approach_data': [\n",
        "        {'orbiting_body': 'Earth', 'close_approach_date': '2029-04-13',\n",
        "          'miss_distance': {'kilometers': '32000.0'},\n",
        "          'relative_velocity': {'kilometers_per_second': '7.42'}},\n",
        "\n",
        "        {'orbiting_body': 'Mars', 'close_approach_date': '2030-06-22',\n",
        "          'miss_distance': {'kilometers': '500000.0'},\n",
        "          'relative_velocity': {'kilometers_per_second': '10.1'}},\n",
        "\n",
        "        {'orbiting_body': 'Earth', 'close_approach_date': '2040-07-15',\n",
        "          'miss_distance': {'kilometers': '25000.0'},\n",
        "          'relative_velocity': {'kilometers_per_second': '8.2'}}\n",
        "        ]\n",
        "      }\n",
        "\n",
        "  def test_nearest_miss(self):\n",
        "    '''Test that 'nearest_miss' returns the correct CloseApproach.'''\n",
        "    with patch('__main__.get_neo', return_value=self.fake_neo):\n",
        "      asteroid = Asteroid.from_NEO(\"2029_APO\")\n",
        "      closest = asteroid.nearest_miss()\n",
        "      self.assertIsNotNone(closest)\n",
        "      self.assertEqual(closest.miss_distance, 25000.0)  # Closest approach\n",
        "\n",
        "  def test_closest_earth_approach(self):\n",
        "    '''Test that 'closest_earth_approach' returns the closest approach to Earth.'''\n",
        "    with patch('__main__.get_neo', return_value=self.fake_neo):\n",
        "      asteroid = Asteroid.from_NEO(\"2029_APO\")\n",
        "      closest_earth = asteroid.closest_earth_approach()\n",
        "      self.assertIsNotNone(closest_earth)\n",
        "      self.assertEqual(closest_earth.miss_distance, 25000.0)  # Closest Earth approach\n",
        "\n",
        "if __name__ == '__main__':\n",
        "    unittest.main(argv=[''], exit=False)"
      ]
    },
    {
      "cell_type": "markdown",
      "metadata": {
        "id": "d9EeDx_aLZF6"
      },
      "source": [
        "## Exercise 3: Plot the Closest Approaches\n",
        "\n",
        "Write a function that takes an Asteroid object as a parameter and makes a timeline plot of close approaches.  You may wish to use the `matplotlib.pyplot` `plot` object.  Here is an example of a timeline plot for the asteroid with neo id '54339874'\n",
        "\n",
        "![Screenshot 2025-01-02 at 10.35.29 AM.png](data:image/png;base64,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)"
      ]
    },
    {
      "cell_type": "code",
      "execution_count": 7,
      "metadata": {
        "id": "T1rvLu9rW2Nn"
      },
      "outputs": [],
      "source": [
        "# Ex. 3\n",
        "import matplotlib.pyplot as plt\n",
        "\n",
        "def plot_close_approaches(asteroid):\n",
        "  '''Plots a timeline of close approaches, ignoring miss distance.'''\n",
        "  if not asteroid.close_approaches:\n",
        "    print(\"No close approaches to plot.\")\n",
        "    return\n",
        "\n",
        "  # Extract years from the approach dates\n",
        "  years = [ca.approach_date.year for ca in asteroid.close_approaches]\n",
        "\n",
        "  # Adjust years so 1940 is \"year 0\" - just because the example graph is like this\n",
        "  adjusted_years = [year - 1940 for year in years]\n",
        "\n",
        "  # Set a constant y-value to keep all points on a straight line\n",
        "  y_values = [1] * len(adjusted_years)\n",
        "\n",
        "  # Create the plot\n",
        "  plt.figure(figsize=(13, 2.75))\n",
        "  plt.scatter(adjusted_years, y_values, color='#1e77b4', marker='o', s=15)\n",
        "\n",
        "  # Formatting\n",
        "  plt.xlabel(\"Date\", fontsize=6.5)\n",
        "  plt.title(f\"{asteroid.name} Close Approach Timeline\", fontsize=8)\n",
        "\n",
        "  # X-axis ticks every 20 years from 1960 to 2120\n",
        "  plt.xticks(ticks=range(20, 181, 20), labels=range(1960, 2121, 20), fontsize=6.5)\n",
        "\n",
        "  # Hide y-axis labels since they are meaningless\n",
        "  plt.yticks([])\n",
        "\n",
        "  plt.grid(False)  # No grid\n",
        "\n",
        "  plt.show()\n"
      ]
    },
    {
      "cell_type": "code",
      "execution_count": 8,
      "metadata": {
        "colab": {
          "base_uri": "https://localhost:8080/",
          "height": 298
        },
        "id": "yTcZb8vRRvLe",
        "outputId": "b225ffee-fb3e-43eb-fa64-4d2254c0f9b5"
      },
      "outputs": [
        {
          "output_type": "display_data",
          "data": {
            "text/plain": [
              "<Figure size 1300x275 with 1 Axes>"
            ],
            "image/png": "[encoded data removed]"
          },
          "metadata": {}
        }
      ],
      "source": [
        "plot_close_approaches(Asteroid.from_NEO(\"54339874\"))"
      ]
    },
    {
      "cell_type": "markdown",
      "metadata": {
        "collapsed": false,
        "id": "p8VP8kr-fSzQ"
      },
      "source": [
        "## Challenge - Take your skills to the next level...\n",
        "\n",
        " With these data structures in place, we can now start answering all kinds of interesting questions about a single Asteroid or a set of Asteroids.  \n",
        "Here’s a couple ideas to try:\n",
        "\n",
        "\n",
        "\n",
        "* write a **function** named `most_dangerous_approach`, that takes a date range and returns a single “potentially hazardous” Asteroid object that makes the closest approach to Earth in within that range.  Your algorithm will ultimately need to:\n",
        "    * grab the list of NEO’s for the given date range;\n",
        "    * use a list comprehension to build the list of Asteroid objects for the NEO’s returned\n",
        "    * use a list comprehension to filter  potentially hazardous Asteroids only;\n",
        "    * use a list comprehension to map each Asteroid to its  closest_earth_approach\n",
        "    * apply Python’s min function to identify the Asteroid with the closest_earth_approach\n",
        "\n",
        "You may want to decompose some of these steps into smaller functions.\n",
        "* add a method to the Asteroid class, estimated_mass, that computes an estimate of the Asteroid’s mass based on its diameter.  This is a model – state your assumptions.\n",
        "* add a method to the CloseApproach class, impact_force,  that estimates the force of impact if the Asteroid hit the orbiting object.  Again, this is a model, state your assumptions."
      ]
    },
    {
      "cell_type": "code",
      "execution_count": 20,
      "metadata": {
        "id": "Ds1YevErlzCe"
      },
      "outputs": [],
      "source": [
        "# Too much trouble associated with creating the two new methods, so I just made the most_dangeroud_approach function\n",
        "# Ex. 4 (challenge)\n",
        "\n",
        "def get_neos_in_range(start_date, end_date):\n",
        "  ''' returns a list of NEO data from the API\n",
        "\n",
        "  preconditions: start_date and end_date are in format: YYYY-MM-DD\n",
        "  '''\n",
        "  url = f'https://api.nasa.gov/neo/rest/v1/feed?start_date={start_date}&end_date={end_date}&api_key={API_KEY}'\n",
        "  # Fetch NEO feed within date range\n",
        "  response = requests.request(\"GET\", url, headers={}, data={})\n",
        "  data = json.loads(response.text)\n",
        "  return [neo for dated_records in data['near_earth_objects'].values() for neo in dated_records ]\n",
        "\n",
        "\n",
        "def most_dangerous_approach(start_date, end_date):\n",
        "  ''' takes a date range and returns the neo with the most dangerous approach\n",
        "\n",
        "  preconditions: start_date and end_date are in format: YYYY-MM-DD\n",
        "  postconditions: returns the full Asteroid object with the most dangerous approach\n",
        "\n",
        "  user should only print desired attributes of the asteroid object to prevent overload\n",
        "  '''\n",
        "  # Assume 'get_neos_in_date_range' returns a list of NEO data from an API or file\n",
        "  neos_in_range = get_neos_in_range(start_date, end_date)\n",
        "\n",
        "  # Build Asteroid objects\n",
        "  asteroids = [Asteroid.from_NEO(neo['id']) for neo in neos_in_range if Asteroid.from_NEO(neo['id']).is_potentially_hazardous]\n",
        "\n",
        "  # Find closest Earth approach for each asteroid\n",
        "  closest_approaches = [\n",
        "    (asteroid, asteroid.closest_earth_approach(start_date, end_date)) for asteroid in asteroids\n",
        "  ]\n",
        "  closest_approaches = [entry for entry in closest_approaches if entry[1] is not None]\n",
        "  if not closest_approaches:\n",
        "    return None\n",
        "\n",
        "  # Use min to find the asteroid with the closest approach\n",
        "  most_dangerous = min(closest_approaches, key=lambda x: x[1].miss_distance)\n",
        "\n",
        "  return most_dangerous[0]  # Return the Asteroid object"
      ]
    },
    {
      "cell_type": "code",
      "execution_count": 21,
      "metadata": {
        "colab": {
          "base_uri": "https://localhost:8080/"
        },
        "id": "SNNAArbuNSti",
        "outputId": "3a151d13-ce64-424f-c8f3-79dbf9586289"
      },
      "outputs": [
        {
          "output_type": "stream",
          "name": "stdout",
          "text": [
            "Most dangerous asteroid: (2020 BC6)\n",
            "Miss distance: 1821501.884905347km\n"
          ]
        }
      ],
      "source": [
        "# Test for the first week of this month\n",
        "dangerous_asteroid = most_dangerous_approach('2025-01-01','2025-01-08')\n",
        "print(f\"Most dangerous asteroid: {dangerous_asteroid.name}\")\n",
        "print(f\"Miss distance: {dangerous_asteroid.closest_earth_approach().miss_distance}km\")"
      ]
    }
  ],
  "metadata": {
    "colab": {
      "provenance": [],
      "include_colab_link": true
    },
    "kernelspec": {
      "display_name": "Python 3",
      "language": "python",
      "name": "python3"
    },
    "language_info": {
      "codemirror_mode": {
        "name": "ipython",
        "version": 2
      },
      "file_extension": ".py",
      "mimetype": "text/x-python",
      "name": "python",
      "nbconvert_exporter": "python",
      "pygments_lexer": "ipython2",
      "version": "2.7.6"
    }
  },
  "nbformat": 4,
  "nbformat_minor": 0
}